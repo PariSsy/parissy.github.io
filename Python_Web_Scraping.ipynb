{
  "nbformat": 4,
  "nbformat_minor": 0,
  "metadata": {
    "colab": {
      "name": "Python-Web_Scraping.ipynb",
      "provenance": [],
      "toc_visible": true,
      "authorship_tag": "ABX9TyMWuDuZOzu5EIa8JF3Tk/NF",
      "include_colab_link": true
    },
    "kernelspec": {
      "name": "python3",
      "display_name": "Python 3"
    },
    "language_info": {
      "name": "python"
    }
  },
  "cells": [
    {
      "cell_type": "markdown",
      "metadata": {
        "id": "view-in-github",
        "colab_type": "text"
      },
      "source": [
        "<a href=\"https://colab.research.google.com/github/PariSsy/parissy.github.io/blob/master/Python_Web_Scraping.ipynb\" target=\"_parent\"><img src=\"https://colab.research.google.com/assets/colab-badge.svg\" alt=\"Open In Colab\"/></a>"
      ]
    },
    {
      "cell_type": "markdown",
      "metadata": {
        "id": "z0if_mQW0zhT"
      },
      "source": [
        "# Web Scraping in Python\n",
        "\n",
        "* Instructor = Thomas Laetsch, DS at NYU\n",
        "* [Course Link](https://learn.datacamp.com/courses/web-scraping-with-python)\n",
        "* Notes taken = Aug 4, 2021\n",
        "\n"
      ]
    },
    {
      "cell_type": "markdown",
      "metadata": {
        "id": "SA1ObSLA1qyf"
      },
      "source": [
        "# Chapter 1 - Intro to HTML\n"
      ]
    },
    {
      "cell_type": "markdown",
      "metadata": {
        "id": "rSES9DJT-Zh5"
      },
      "source": [
        "## 1.1 - HyperText Markup\n",
        "\n",
        "```\n",
        "<html>\n",
        "    <body>\n",
        "        <div>\n",
        "            <p>Hello World!</p>\n",
        "            <p>Enjoy DataCamp!</p>\n",
        "        </div>\n",
        "        <p>Thanks for Watching!</p>\n",
        "    </body>\n",
        "</html>\n",
        "```"
      ]
    },
    {
      "cell_type": "markdown",
      "metadata": {
        "id": "4gPnXkH9-ed_"
      },
      "source": [
        "## 1.2 - HTML Tags and Attributes\n",
        "\n",
        "1. Tag names: **html**, **div**, and **p**\n",
        "  * `<tag-name attrib-name=\"attrib info\"> ..element contents.. </tag-name>`\n",
        "  * `<div id=\"unique-id\" class=\"some class\"> ..div element contents.. </div>`\n",
        "  * **id** attribute should be unique\n",
        "  * **class** attribute doesn't need to be unique\n",
        "2. **a** tags are for hyperlinks; **href** attribute tells what link to go to\n",
        "  * `<a href=\"https://www.datacamp.com\"> This text links to DataCamp! </a>`\n",
        "\n",
        "See tag traction on w3schools."
      ]
    },
    {
      "cell_type": "markdown",
      "metadata": {
        "id": "_jAadksS-gfP"
      },
      "source": [
        "## 1.3 - Crash Course X\n",
        "\n",
        "1. Direct to all `table` elements within the entire HTML code: `xpath = '//table'`\n",
        "2. Direct to all `table` elements which are descendants of the 2nd `div` child of the `body` element: `xpath = '/html/body/div[2]//table'`"
      ]
    },
    {
      "cell_type": "markdown",
      "metadata": {
        "id": "aU6_izpM8Ocd"
      },
      "source": [
        "# Chapter 2 - XPaths and Selectors"
      ]
    },
    {
      "cell_type": "markdown",
      "metadata": {
        "id": "MFO3O650-jPv"
      },
      "source": [
        "## 2.1 - XPathology\n",
        "\n",
        "### Slashes and Brackets\n",
        "\n",
        "* `/` looks forward ONE generation\n",
        "* `//` looks forward all future generations\n",
        "* `[]` narrows in specific elements\n",
        "* `*` asterisk is the wildcard\n",
        "\n"
      ]
    },
    {
      "cell_type": "markdown",
      "metadata": {
        "id": "THbG_Muh-lsO"
      },
      "source": [
        "## 2.2 - Off the Beaten XPath\n",
        "\n",
        "### (At)tribute\n",
        "* `@` represents \"attribute\": `@class`, `@id`, `@href`\n",
        "* Examples:\n",
        "  + `xpath = '//p[@class=\"class-1\"]'`\n",
        "  + `xpath = '//*[@id=\"uid\"]'`\n",
        "  + `xpath = '//div[@id=\"uid\"]/p[2]'`\n",
        "\n",
        "### Example\n",
        "```\n",
        "<html>\n",
        "  <body>\n",
        "    <div id=\"uid\">\n",
        "      <p class=\"class-1\">Hello World!</p>\n",
        "      <p class=\"class-2\">Enjoy DataCamp!</p>\n",
        "    </div>\n",
        "    </p class=\"class-1\">Thanks for Watching!</p>\n",
        "  </body>\n",
        "</html>\n",
        "```\n",
        "\n",
        "### Content with Contains\n",
        "Xpath contains notation: `contains(@attri-name, \"string-expr\")`\n",
        "\n",
        "1. `xpath = '//*[contains(@class,\"class-1\")]'`\n",
        "2. `xpath = '//*[@class=\"class-1\"]'`\n",
        "3. `xpath = '/html/body/div/p[2]/@class'`"
      ]
    },
    {
      "cell_type": "markdown",
      "metadata": {
        "id": "XXY4Dso5-nhw"
      },
      "source": [
        "## 2.3 - scrapy Selector Objects\n",
        "\n",
        "### Setting up a Selector\n",
        "```\n",
        "from scrapy import Selector\n",
        "\n",
        "html = '''\n",
        "<html>\n",
        "  <body>\n",
        "    <div class=\"hello datacamp\">\n",
        "      <p>Hello World!</p>\n",
        "    </div>\n",
        "    <p>Enjoy DataCamp!</p>\n",
        "  </body>\n",
        "</html>\n",
        "'''\n",
        "\n",
        "sel = Selector( text = html )\n",
        "```\n",
        "\n",
        "### Selecting Selectors\n",
        "\n",
        "Use **`xpath`** within **`Selector`**:\n",
        "```\n",
        "sel.xpath(\"//p\")\n",
        "# outputs the SelectorList:\n",
        "[<Selector xpath='//p' data='<p>Hello World!</p>'>,\n",
        " <Selector xpath='//p' data='<p>Enjoy DataCamp!</p>'>]\n",
        "```\n",
        "\n",
        "### Extracting Data from a SelectorList\n",
        "\n",
        "**`extract()`**\n",
        "```\n",
        ">>> sel.xpath(\"//p\").extract()\n",
        "out: [ '<p>Hello World!</p>',\n",
        "       '<p>Enjoy DataCamp!</p>' ]\n",
        "```\n",
        "\n",
        "**`extract_first()`**\n",
        "```\n",
        ">>> sel.xpath(\"//p\").extract_first()\n",
        "out: '<p>Hello World!</p>'\n",
        "```"
      ]
    },
    {
      "cell_type": "markdown",
      "metadata": {
        "id": "Ie8ZvkSd-pWm"
      },
      "source": [
        "## 2.4 - Inspecting the Source\n",
        "\n",
        "### HTML text to Selector\n",
        "\n",
        "```\n",
        "from scrapy import Selector\n",
        "import requests\n",
        "\n",
        "url = 'https://en.wikipedia.org/wiki/Web_scraping'\n",
        "html = requests.get( url ).content\n",
        "sel = Selector( text = html )\n",
        "```"
      ]
    },
    {
      "cell_type": "markdown",
      "metadata": {
        "id": "W5cLu6E_37S2"
      },
      "source": [
        "# Chapter 3 - CSS Locators, Chaining, and Responses\n",
        "\n"
      ]
    },
    {
      "cell_type": "markdown",
      "metadata": {
        "id": "aYrewVnL-JLY"
      },
      "source": [
        "## 3.1 - CSS Locators\n",
        "\n",
        "1. General rules\n",
        "  + `/` replaced by `>` (except the first character)\n",
        "    + XPath: `/html/body/div`\n",
        "    + CSS Locator: `html > body > div`\n",
        "  + `//` replaced by a blank space (except the first character)\n",
        "    + XPath: `//div/span//p`\n",
        "    + CSS Locator: `div > span p`\n",
        "  + `[N]` replaced by `:nth-of-type(N)`\n",
        "    + XPath: `//div/p[2]`\n",
        "    + CSS Locator: `div > p:nth-of-type(2)`\n",
        "2. Conversion example\n",
        "  + XPATH: `xpath = '/html/body//div/p[2]'`\n",
        "  + CSS: `css = 'html > body div > p:nth-of-type(2)'`\n",
        "3. Attributes in CSS\n",
        "  + `.` to find an element by *class*: `p.class-1` selects all paragraph elements belonging to `class-1`\n",
        "  + `#` to find an element by *id*: `div#uid` selects the `div` element with `id` = `uid`\n",
        "  + Examples:\n",
        "    + Select paragraph elements within class `class1`: `css_locator = 'div#uid > p.class1'`\n",
        "    + Select all elements whose class attribute belongs to `class1`: `css_locator = '.class1'`\n",
        "\n",
        "### Selectors with CSS\n",
        "\n",
        "```\n",
        ">>> sel.css(\"div > p\")\n",
        "out: [<Selector xpath='...' data='<p>Hello World!</p>'>]\n",
        "\n",
        ">>> sel.css(\"div > p\").extract()\n",
        "out: [ '<p>Hello World!</p>' ]\n",
        "```\n",
        "\n",
        "### More conversion examples:\n",
        "\n",
        "```\n",
        "xpath = '/html/body/span[1]//a'\n",
        "css_locator = 'html > body > span:nth-of-type(1) a'\n",
        "\n",
        "xpath = '//div[@id=\"uid\"]/span//h4'\n",
        "css_locator = 'div#uid > span h4'\n",
        "```"
      ]
    },
    {
      "cell_type": "markdown",
      "metadata": {
        "id": "qTcs38MP-Kk3"
      },
      "source": [
        "## 3.2 - Attribute and Text Selection\n",
        "\n",
        "1. XPath: `<xpath-to-element>/@attr-name` - e.g., `xpath = '//div[@id=\"uid]/a/@href'`\n",
        "2. CSS Locator: `<css-to-element>::attr(attr-name)` - e.g., `css_locator = 'div#uid > a::attr(href)'`\n",
        "\n",
        "### Text Extraction\n",
        "\n",
        "```\n",
        "<p id=\"p-example\">\n",
        "  Hello world!\n",
        "  Try <a href=\"http://www.datacamp.com\">DataCamp</a> today!\n",
        "</p>\n",
        "```\n",
        "\n",
        "* In XPath use `text()`\n",
        "\n",
        "```\n",
        "sel.xpath('//p[@id=\"p-example\"]/text()').extract()\n",
        "# result: ['\\n Hello world!\\n Try ',' today!\\n']\n",
        "\n",
        "sel.xpath('//p[@id=\"p-example\"]//text()').extract()\n",
        "# result: ['\\n Hello world!\\n Try ','DataCamp',' today!\\n']\n",
        "```\n",
        "\n",
        "* In CSS Lacator use `::text`\n",
        "\n",
        "```\n",
        "sel.css('p#p-example::text').extract()\n",
        "# result: ['\\n Hello world!\\n Try ',' today!\\n']\n",
        "\n",
        "sel.css('p#p-example ::text').extract()\n",
        "# result: ['\\n Hello world!\\n Try ','DataCamp',' today!\\n']\n",
        "```\n"
      ]
    },
    {
      "cell_type": "markdown",
      "metadata": {
        "id": "ts4PCxBs-L74"
      },
      "source": [
        "## 3.3 - "
      ]
    },
    {
      "cell_type": "markdown",
      "metadata": {
        "id": "rygClKCM37cG"
      },
      "source": [
        "# Chapter 4 - \n"
      ]
    },
    {
      "cell_type": "markdown",
      "metadata": {
        "id": "3tU0napW-RAX"
      },
      "source": [
        "## 4.1 - "
      ]
    },
    {
      "cell_type": "markdown",
      "metadata": {
        "id": "TR3ZljfN-Sev"
      },
      "source": [
        "## 4.2 - "
      ]
    },
    {
      "cell_type": "markdown",
      "metadata": {
        "id": "KVSINhQx-T7Q"
      },
      "source": [
        "## 4.3 - "
      ]
    }
  ]
}